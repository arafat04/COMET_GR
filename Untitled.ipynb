{
 "cells": [
  {
   "cell_type": "code",
   "execution_count": 2,
   "id": "a9c815b3-b741-4ae5-b3b5-b19c0a2e0889",
   "metadata": {},
   "outputs": [
    {
     "name": "stdout",
     "output_type": "stream",
     "text": [
      "I bought an \u001b[1;31mApple\u001b[0m and a \u001b[1;31mbanana\u001b[0m at the market.\n"
     ]
    }
   ],
   "source": [
    "import re\n",
    "def highlight_words(sentence, words, color_code=\"\\033[1;31m\"):  # Red bold text\n",
    "    reset_code = \"\\033[0m\"\n",
    "    for word in words:\n",
    "        sentence = re.sub(\n",
    "            fr'\\b{re.escape(word)}\\b', \n",
    "            f'{color_code}\\\\g<0>{reset_code}', \n",
    "            sentence, \n",
    "            flags=re.IGNORECASE\n",
    "        )\n",
    "    return sentence\n",
    "\n",
    "# Example usage\n",
    "word_list = [\"apple\", \"banana\"]\n",
    "sentence = \"I bought an Apple and a banana at the market.\"\n",
    "\n",
    "print(highlight_words(sentence, word_list))"
   ]
  },
  {
   "cell_type": "code",
   "execution_count": 3,
   "id": "ca37d352-2721-41db-8da5-0dcc7a0883fd",
   "metadata": {},
   "outputs": [
    {
     "name": "stdout",
     "output_type": "stream",
     "text": [
      "The **banana** split had caramelized **apple** chunks.\n"
     ]
    }
   ],
   "source": [
    "import re\n",
    "\n",
    "def highlight_words(sentence, words, style=\"**\"):\n",
    "    for word in words:\n",
    "        sentence = re.sub(\n",
    "            fr'\\b{re.escape(word)}\\b', \n",
    "            f'{style}\\\\g<0>{style}', \n",
    "            sentence, \n",
    "            flags=re.IGNORECASE\n",
    "        )\n",
    "    return sentence\n",
    "\n",
    "# Example usage\n",
    "word_list = [\"apple\", \"banana\"]\n",
    "sentence = \"The banana split had caramelized apple chunks.\"\n",
    "print(highlight_words(sentence, word_list))"
   ]
  },
  {
   "cell_type": "code",
   "execution_count": null,
   "id": "1a90d2bf-097d-4255-b397-46704c6292e4",
   "metadata": {},
   "outputs": [],
   "source": []
  }
 ],
 "metadata": {
  "kernelspec": {
   "display_name": "Python 3 (ipykernel)",
   "language": "python",
   "name": "python3"
  },
  "language_info": {
   "codemirror_mode": {
    "name": "ipython",
    "version": 3
   },
   "file_extension": ".py",
   "mimetype": "text/x-python",
   "name": "python",
   "nbconvert_exporter": "python",
   "pygments_lexer": "ipython3",
   "version": "3.11.11"
  }
 },
 "nbformat": 4,
 "nbformat_minor": 5
}
