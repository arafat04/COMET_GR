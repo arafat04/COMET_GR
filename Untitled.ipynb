{
 "cells": [
  {
   "cell_type": "code",
   "execution_count": 2,
   "id": "a9c815b3-b741-4ae5-b3b5-b19c0a2e0889",
   "metadata": {},
   "outputs": [
    {
     "name": "stdout",
     "output_type": "stream",
     "text": [
      "I bought an \u001b[1;31mApple\u001b[0m and a \u001b[1;31mbanana\u001b[0m at the market.\n"
     ]
    }
   ],
   "source": [
    "import re\n",
    "def highlight_words(sentence, words, color_code=\"\\033[1;31m\"):  # Red bold text\n",
    "    reset_code = \"\\033[0m\"\n",
    "    for word in words:\n",
    "        sentence = re.sub(\n",
    "            fr'\\b{re.escape(word)}\\b', \n",
    "            f'{color_code}\\\\g<0>{reset_code}', \n",
    "            sentence, \n",
    "            flags=re.IGNORECASE\n",
    "        )\n",
    "    return sentence\n",
    "\n",
    "# Example usage\n",
    "word_list = [\"apple\", \"banana\"]\n",
    "sentence = \"I bought an Apple and a banana at the market.\"\n",
    "\n",
    "print(highlight_words(sentence, word_list))"
   ]
  },
  {
   "cell_type": "code",
   "execution_count": 3,
   "id": "ca37d352-2721-41db-8da5-0dcc7a0883fd",
   "metadata": {},
   "outputs": [
    {
     "name": "stdout",
     "output_type": "stream",
     "text": [
      "The **banana** split had caramelized **apple** chunks.\n"
     ]
    }
   ],
   "source": [
    "import re\n",
    "\n",
    "def highlight_words(sentence, words, style=\"**\"):\n",
    "    for word in words:\n",
    "        sentence = re.sub(\n",
    "            fr'\\b{re.escape(word)}\\b', \n",
    "            f'{style}\\\\g<0>{style}', \n",
    "            sentence, \n",
    "            flags=re.IGNORECASE\n",
    "        )\n",
    "    return sentence\n",
    "\n",
    "# Example usage\n",
    "word_list = [\"apple\", \"banana\"]\n",
    "sentence = \"The banana split had caramelized apple chunks.\"\n",
    "print(highlight_words(sentence, word_list))"
   ]
  },
  {
   "cell_type": "code",
   "execution_count": 1,
   "id": "1a90d2bf-097d-4255-b397-46704c6292e4",
   "metadata": {},
   "outputs": [],
   "source": [
    "def split_with_indices(text):\n",
    "    words = []\n",
    "    current_position = 0\n",
    "    n = len(text)\n",
    "    while current_position < n:\n",
    "        # Skip leading spaces\n",
    "        while current_position < n and text[current_position] == ' ':\n",
    "            current_position += 1\n",
    "        if current_position >= n:\n",
    "            break\n",
    "        start = current_position\n",
    "        # Find end of word\n",
    "        while current_position < n and text[current_position] != ' ':\n",
    "            current_position += 1\n",
    "        end = current_position  # Last character index of the word\n",
    "        words.append((text[start:end+1], start, end))\n",
    "    return words"
   ]
  },
  {
   "cell_type": "code",
   "execution_count": 2,
   "id": "3e9a8f29-8954-40cb-852b-76e31aaf5e4d",
   "metadata": {},
   "outputs": [
    {
     "name": "stdout",
     "output_type": "stream",
     "text": [
      "[('Transformation ', 0, 14), ('de ', 15, 17), ('structures ', 18, 28), ('de ', 29, 31), ('dépendances ', 32, 43), ('en ', 44, 46), ('arbres ', 47, 53), ('de ', 54, 56), ('dérivation ', 57, 67), ('LTAG', 68, 72)]\n",
      "Index of the last character of the second word: 17\n"
     ]
    }
   ],
   "source": [
    "text = \"Transformation de structures de dépendances en arbres de dérivation LTAG\"\n",
    "words_with_indices = split_with_indices(text)\n",
    "print(words_with_indices)\n",
    "if len(words_with_indices) >= 2:\n",
    "    second_word_end_index = words_with_indices[1][2]\n",
    "    print(f\"Index of the last character of the second word: {second_word_end_index}\")\n",
    "else:\n",
    "    print(\"The text has fewer than two words.\")"
   ]
  },
  {
   "cell_type": "code",
   "execution_count": null,
   "id": "dc0ccbf1-8dec-4910-9514-6e866b06bf81",
   "metadata": {},
   "outputs": [],
   "source": [
    "\ttranslation\n",
    "63\tDans ce travail, nous proposons une approche de concaténation améliorée qui encourage le modèle à se concentrer sur la traduction de la phrase actuelle, en évitant la perte générée par le contexte cible."
   ]
  }
 ],
 "metadata": {
  "kernelspec": {
   "display_name": "Python 3 (ipykernel)",
   "language": "python",
   "name": "python3"
  },
  "language_info": {
   "codemirror_mode": {
    "name": "ipython",
    "version": 3
   },
   "file_extension": ".py",
   "mimetype": "text/x-python",
   "name": "python",
   "nbconvert_exporter": "python",
   "pygments_lexer": "ipython3",
   "version": "3.11.11"
  }
 },
 "nbformat": 4,
 "nbformat_minor": 5
}
