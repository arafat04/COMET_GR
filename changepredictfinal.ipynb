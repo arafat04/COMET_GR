{
 "cells": [
  {
   "cell_type": "code",
   "execution_count": 1,
   "id": "1a93f5bc-89e1-405c-a397-de7a2dd2868c",
   "metadata": {},
   "outputs": [
    {
     "name": "stderr",
     "output_type": "stream",
     "text": [
      "/storage/brno2/home/rahmang/envs/xcomet/lib/python3.11/site-packages/tqdm/auto.py:21: TqdmWarning: IProgress not found. Please update jupyter and ipywidgets. See https://ipywidgets.readthedocs.io/en/stable/user_install.html\n",
      "  from .autonotebook import tqdm as notebook_tqdm\n"
     ]
    },
    {
     "name": "stdout",
     "output_type": "stream",
     "text": [
      "custom unified_metric\n"
     ]
    },
    {
     "name": "stderr",
     "output_type": "stream",
     "text": [
      "Encoder model frozen.\n",
      "/storage/brno2/home/rahmang/envs/xcomet/lib/python3.11/site-packages/pytorch_lightning/core/saving.py:195: Found keys that are not in the model state dict but in the checkpoint: ['encoder.model.embeddings.position_ids']\n",
      "/storage/brno2/home/rahmang/envs/xcomet/lib/python3.11/site-packages/torch/utils/data/dataloader.py:617: UserWarning: This DataLoader will create 2 worker processes in total. Our suggested max number of worker in current system is 1, which is smaller than what this DataLoader is going to create. Please be aware that excessive worker creation might get DataLoader running slow or even freeze, lower the worker number to avoid potential slowness/freeze if necessary.\n",
      "  warnings.warn(\n",
      "GPU available: True (cuda), used: True\n",
      "TPU available: False, using: 0 TPU cores\n",
      "HPU available: False, using: 0 HPUs\n",
      "You are using a CUDA device ('NVIDIA A40') that has Tensor Cores. To properly utilize them, you should set `torch.set_float32_matmul_precision('medium' | 'high')` which will trade-off precision for performance. For more details, read https://pytorch.org/docs/stable/generated/torch.set_float32_matmul_precision.html#torch.set_float32_matmul_precision\n",
      "LOCAL_RANK: 0 - CUDA_VISIBLE_DEVICES: [GPU-38101a57-acdb-0625-2da5-ae6faf020a3a]\n",
      "/storage/brno2/home/rahmang/envs/xcomet/lib/python3.11/site-packages/torch/utils/data/dataloader.py:617: UserWarning: This DataLoader will create 2 worker processes in total. Our suggested max number of worker in current system is 1, which is smaller than what this DataLoader is going to create. Please be aware that excessive worker creation might get DataLoader running slow or even freeze, lower the worker number to avoid potential slowness/freeze if necessary.\n",
      "  warnings.warn(\n",
      "Asking to truncate to max_length but no maximum length is provided and the model has no predefined maximum length. Default to no truncation.\n"
     ]
    },
    {
     "name": "stdout",
     "output_type": "stream",
     "text": [
      "word_ids:  [[None, 0, 1, 2, 3, 4, 4, 4, 4, 4, 5, 6, 7, 8, 8, None]]\n",
      "track_spans:  [-1, -1, -1, 3, 4, -1, 6, 7, 8, 9, 10, 11, 12, 13, 14, -1]\n",
      "Tokenized_Words:  ['Boris', 'Johnson', 'ist', 'bei', 'Tory-Abgeordneten', 'völlig', 'in', 'der', 'Gunst']\n",
      "item in track_spans:  -1\n",
      "item in track_spans:  -1\n",
      "item in track_spans:  -1\n",
      "item in track_spans:  3\n",
      "word:  2\n",
      "item in track_spans:  4\n",
      "word:  3\n",
      "item in track_spans:  -1\n",
      "item in track_spans:  6\n",
      "word:  4\n",
      "item in track_spans:  7\n",
      "item in track_spans:  8\n",
      "item in track_spans:  9\n",
      "item in track_spans:  10\n",
      "word:  5\n",
      "item in track_spans:  11\n",
      "word:  6\n",
      "item in track_spans:  12\n",
      "word:  7\n",
      "item in track_spans:  13\n",
      "word:  8\n",
      "item in track_spans:  14\n",
      "item in track_spans:  -1\n",
      "all_word_spans:  defaultdict(None, {0: defaultdict(None, {'text': 'ist bei', 'start': 13, 'end': 21}), 1: defaultdict(None, {'text': 'Tory-Abgeordneten völlig in der Gunst', 'start': 21, 'end': 59})})\n",
      "error_spans:  "
     ]
    },
    {
     "name": "stderr",
     "output_type": "stream",
     "text": [
      "Predicting DataLoader 0: 100%|██████████| 1/1 [00:08<00:00,  8.34s/it]"
     ]
    },
    {
     "name": "stdout",
     "output_type": "stream",
     "text": [
      "[{'tokens': [tensor(443, device='cuda:0'), tensor(1079, device='cuda:0')], 'severity': 'critical', 'offset': [13, 21], 'confidence': [tensor([0.4986], device='cuda:0'), tensor([0.3205], device='cuda:0')], 'check severity': ['critical', 'critical']}, {'tokens': [tensor(53, device='cuda:0'), tensor(9, device='cuda:0'), tensor(241832, device='cuda:0'), tensor(19, device='cuda:0'), tensor(86454, device='cuda:0'), tensor(23, device='cuda:0'), tensor(122, device='cuda:0'), tensor(25706, device='cuda:0'), tensor(271, device='cuda:0')], 'severity': 'minor', 'offset': [25, 59], 'confidence': [tensor([0.2637], device='cuda:0'), tensor([0.2554], device='cuda:0'), tensor([0.2737], device='cuda:0'), tensor([0.2517], device='cuda:0'), tensor([0.5164], device='cuda:0'), tensor([0.5659], device='cuda:0'), tensor([0.5366], device='cuda:0'), tensor([0.4797], device='cuda:0'), tensor([0.5111], device='cuda:0')], 'check severity': ['minor', 'minor', 'major', 'major', 'critical', 'critical', 'critical', 'critical', 'critical']}]\n"
     ]
    },
    {
     "name": "stderr",
     "output_type": "stream",
     "text": [
      "\n"
     ]
    },
    {
     "name": "stdout",
     "output_type": "stream",
     "text": [
      "[0.6365968585014343]\n",
      "0.6365968585014343\n",
      "[[{'text': 'ist bei', 'confidence': 0.4095497727394104, 'severity': 'critical', 'start': 13, 'end': 21}, {'text': 'Tory-Abgeordneten völlig in der Gunst', 'confidence': 0.40602245926856995, 'severity': 'minor', 'start': 21, 'end': 59}]]\n",
      "[[{'word': 'Boris', 'probabilities': [0.5845839381217957, 0.1495356559753418, 0.15199054777622223, 0.11388987302780151]}, {'word': 'Johnson', 'probabilities': [0.6237878799438477, 0.13660618662834167, 0.1444559097290039, 0.09515005350112915]}, {'word': 'ist', 'probabilities': [0.12797817587852478, 0.15131376683712006, 0.22207924723625183, 0.49862879514694214]}, {'word': 'bei', 'probabilities': [0.31826817989349365, 0.14464114606380463, 0.21661992371082306, 0.32047075033187866]}, {'word': 'Tory-Abgeordneten', 'probabilities': [0.41008082032203674, 0.23535537719726562, 0.2197144329547882, 0.13484938442707062]}, {'word': 'völlig', 'probabilities': [0.11040766537189484, 0.14954930543899536, 0.22367152571678162, 0.516371488571167]}, {'word': 'in', 'probabilities': [0.11297599226236343, 0.13117052614688873, 0.18996915221214294, 0.5658842921257019]}, {'word': 'der', 'probabilities': [0.1128077507019043, 0.13989263772964478, 0.2106526792049408, 0.5366469621658325]}, {'word': 'Gunst', 'probabilities': [0.14387768507003784, 0.15015417337417603, 0.2106073498725891, 0.4953608214855194]}]]\n"
     ]
    }
   ],
   "source": [
    "from comet import download_model, load_from_checkpoint\n",
    "from comet.models.multitask.unified_metric import UnifiedMetric\n",
    "class CustomXCOMET(UnifiedMetric):\n",
    "    print(\"custom unified_metric\")\n",
    "    \n",
    "# Load checkpoint into your custom class\n",
    "path = \"/storage/brno2/home/rahmang/xcomet/downloadedxcomet/models--Unbabel--XCOMET-XL/snapshots/50d428488e021205a775d5fab7aacd9502b58e64/checkpoints/model.ckpt\"\n",
    "\n",
    "model = CustomXCOMET.load_from_checkpoint(path,strict = False)\n",
    "data = [\n",
    "    {\n",
    "        \"src\": \"Boris Johnson teeters on edge of favour with Tory MPs\",\n",
    "        \"mt\": \"Boris Johnson ist bei Tory-Abgeordneten völlig in der Gunst\",\n",
    "        \"ref\": \"Boris Johnsons Beliebtheit bei Tory-MPs steht auf der Kippe\"\n",
    "    }\n",
    "]\n",
    "# data = [\n",
    "#     {\n",
    "#         \"src\": \"10 到 15 分钟可以送到吗\",\n",
    "#         \"mt\": \"Can I receive my food in 10 to 15 minutes?\",\n",
    "#         \"ref\": \"Can it be delivered between 10 to 15 minutes?\"\n",
    "#     },\n",
    "#     {\n",
    "#         \"src\": \"Pode ser entregue dentro de 10 a 15 minutos?\",\n",
    "#         \"mt\": \"Can you send it for 10 to 15 minutes?\",\n",
    "#         \"ref\": \"Can it be delivered between 10 to 15 minutes?\"\n",
    "#     }\n",
    "# ]\n",
    "model_output = model.predict(data, batch_size=8, gpus=1)\n",
    "# Segment-level scores\n",
    "print (model_output.scores)\n",
    "\n",
    "# System-level score\n",
    "print (model_output.system_score)\n",
    "\n",
    "# Score explanation (error spans)\n",
    "print (model_output.metadata.error_spans)\n",
    "\n",
    "#added by me\n",
    "\n",
    "print (model_output.metadata.word_level_probability)\n",
    "#track_spans:  [0, -1, -1, 3, 4, -1, 6, 7, 8, 9, 10, 11, 12, 13, 14, -1]\n"
   ]
  },
  {
   "cell_type": "code",
   "execution_count": null,
   "id": "ec9f5cf7-3d18-4c6f-9144-e80ad8ea79e1",
   "metadata": {},
   "outputs": [],
   "source": []
  }
 ],
 "metadata": {
  "kernelspec": {
   "display_name": "Python 3 (ipykernel)",
   "language": "python",
   "name": "python3"
  },
  "language_info": {
   "codemirror_mode": {
    "name": "ipython",
    "version": 3
   },
   "file_extension": ".py",
   "mimetype": "text/x-python",
   "name": "python",
   "nbconvert_exporter": "python",
   "pygments_lexer": "ipython3",
   "version": "3.11.11"
  }
 },
 "nbformat": 4,
 "nbformat_minor": 5
}
